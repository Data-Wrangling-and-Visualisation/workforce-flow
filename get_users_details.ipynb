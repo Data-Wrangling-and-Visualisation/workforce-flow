{
 "cells": [
  {
   "cell_type": "code",
   "execution_count": 1,
   "metadata": {},
   "outputs": [],
   "source": [
    "import pandas as pd"
   ]
  },
  {
   "cell_type": "code",
   "execution_count": 3,
   "metadata": {},
   "outputs": [
    {
     "data": {
      "application/vnd.microsoft.datawrangler.viewer.v0+json": {
       "columns": [
        {
         "name": "index",
         "rawType": "int64",
         "type": "integer"
        },
        {
         "name": "name",
         "rawType": "object",
         "type": "string"
        },
        {
         "name": "description",
         "rawType": "object",
         "type": "string"
        },
        {
         "name": "url",
         "rawType": "object",
         "type": "string"
        }
       ],
       "conversionMethod": "pd.DataFrame",
       "ref": "c7771985-b486-4048-8b0d-de9500862b53",
       "rows": [
        [
         "0",
         "Nikolai Makarskov",
         "независимый консультант по маркетингу",
         "https://www.linkedin.com/in/nikolai-makarskov-66ab3014b/"
        ],
        [
         "1",
         "Alexander Chugunov",
         "Data Scientist at VSK",
         "https://www.linkedin.com/in/alex-chugunov/"
        ],
        [
         "2",
         "Nikolay Gavryusev, MBA",
         "AtomiSoft LLC",
         "https://www.linkedin.com/in/gavryusev/"
        ],
        [
         "3",
         "Sergey K.",
         "CIO | CTO | CDO | MBA | Industry 4.0 & 5.0 | Web3",
         "https://www.linkedin.com/in/sergey-klin/"
        ],
        [
         "4",
         "Viktoria Dibrova",
         "Chief Product Officer",
         "https://www.linkedin.com/in/viktoria-dibrova-726aaa248/en/"
        ]
       ],
       "shape": {
        "columns": 3,
        "rows": 5
       }
      },
      "text/html": [
       "<div>\n",
       "<style scoped>\n",
       "    .dataframe tbody tr th:only-of-type {\n",
       "        vertical-align: middle;\n",
       "    }\n",
       "\n",
       "    .dataframe tbody tr th {\n",
       "        vertical-align: top;\n",
       "    }\n",
       "\n",
       "    .dataframe thead th {\n",
       "        text-align: right;\n",
       "    }\n",
       "</style>\n",
       "<table border=\"1\" class=\"dataframe\">\n",
       "  <thead>\n",
       "    <tr style=\"text-align: right;\">\n",
       "      <th></th>\n",
       "      <th>name</th>\n",
       "      <th>description</th>\n",
       "      <th>url</th>\n",
       "    </tr>\n",
       "  </thead>\n",
       "  <tbody>\n",
       "    <tr>\n",
       "      <th>0</th>\n",
       "      <td>Nikolai Makarskov</td>\n",
       "      <td>независимый консультант по маркетингу</td>\n",
       "      <td>https://www.linkedin.com/in/nikolai-makarskov-...</td>\n",
       "    </tr>\n",
       "    <tr>\n",
       "      <th>1</th>\n",
       "      <td>Alexander Chugunov</td>\n",
       "      <td>Data Scientist at VSK</td>\n",
       "      <td>https://www.linkedin.com/in/alex-chugunov/</td>\n",
       "    </tr>\n",
       "    <tr>\n",
       "      <th>2</th>\n",
       "      <td>Nikolay Gavryusev, MBA</td>\n",
       "      <td>AtomiSoft LLC</td>\n",
       "      <td>https://www.linkedin.com/in/gavryusev/</td>\n",
       "    </tr>\n",
       "    <tr>\n",
       "      <th>3</th>\n",
       "      <td>Sergey K.</td>\n",
       "      <td>CIO | CTO | CDO | MBA | Industry 4.0 &amp; 5.0 | Web3</td>\n",
       "      <td>https://www.linkedin.com/in/sergey-klin/</td>\n",
       "    </tr>\n",
       "    <tr>\n",
       "      <th>4</th>\n",
       "      <td>Viktoria Dibrova</td>\n",
       "      <td>Chief Product Officer</td>\n",
       "      <td>https://www.linkedin.com/in/viktoria-dibrova-7...</td>\n",
       "    </tr>\n",
       "  </tbody>\n",
       "</table>\n",
       "</div>"
      ],
      "text/plain": [
       "                     name                                        description  \\\n",
       "0       Nikolai Makarskov              независимый консультант по маркетингу   \n",
       "1      Alexander Chugunov                              Data Scientist at VSK   \n",
       "2  Nikolay Gavryusev, MBA                                      AtomiSoft LLC   \n",
       "3               Sergey K.  CIO | CTO | CDO | MBA | Industry 4.0 & 5.0 | Web3   \n",
       "4        Viktoria Dibrova                              Chief Product Officer   \n",
       "\n",
       "                                                 url  \n",
       "0  https://www.linkedin.com/in/nikolai-makarskov-...  \n",
       "1         https://www.linkedin.com/in/alex-chugunov/  \n",
       "2             https://www.linkedin.com/in/gavryusev/  \n",
       "3           https://www.linkedin.com/in/sergey-klin/  \n",
       "4  https://www.linkedin.com/in/viktoria-dibrova-7...  "
      ]
     },
     "execution_count": 3,
     "metadata": {},
     "output_type": "execute_result"
    }
   ],
   "source": [
    "users_info_df = pd.read_csv('initial_users_info.csv')\n",
    "users_info_df.head()"
   ]
  }
 ],
 "metadata": {
  "kernelspec": {
   "display_name": "Python 3",
   "language": "python",
   "name": "python3"
  },
  "language_info": {
   "codemirror_mode": {
    "name": "ipython",
    "version": 3
   },
   "file_extension": ".py",
   "mimetype": "text/x-python",
   "name": "python",
   "nbconvert_exporter": "python",
   "pygments_lexer": "ipython3",
   "version": "3.12.1"
  }
 },
 "nbformat": 4,
 "nbformat_minor": 2
}
